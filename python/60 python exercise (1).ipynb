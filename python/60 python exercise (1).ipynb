{
 "cells": [
  {
   "cell_type": "markdown",
   "id": "759d04ba",
   "metadata": {},
   "source": [
    "**1-Write a Python program to calculate the length of a string using 2 ways"
   ]
  },
  {
   "cell_type": "code",
   "execution_count": 17,
   "id": "e434c950",
   "metadata": {},
   "outputs": [
    {
     "name": "stdout",
     "output_type": "stream",
     "text": [
      "6\n"
     ]
    },
    {
     "data": {
      "text/plain": [
       "5"
      ]
     },
     "execution_count": 17,
     "metadata": {},
     "output_type": "execute_result"
    }
   ],
   "source": [
    "string1=\"abcdef\"\n",
    "print(len(string1))\n",
    "\n",
    "### the other way\n",
    "\n",
    "string2=\"ahmed\"\n",
    "counter=0\n",
    "for i in string2:\n",
    "    counter+=1\n",
    "counter\n"
   ]
  },
  {
   "cell_type": "markdown",
   "id": "d7cc9da7",
   "metadata": {},
   "source": [
    "**2-Write a Python program to get a string made of the first 2 and last 2 characters of a given string. If the string length is less than 2, return the empty string instead (\"##Sample String : 'w3resource'\n",
    "Expected Result : 'w3ce'\n",
    "##Sample String : 'w3'\n",
    "Expected Result : 'w3w3'\n",
    "##Sample String : ' w'\n",
    "Expected Result : Empty String)"
   ]
  },
  {
   "cell_type": "code",
   "execution_count": 2,
   "id": "dafa9dd8",
   "metadata": {},
   "outputs": [
    {
     "name": "stdout",
     "output_type": "stream",
     "text": [
      "sandy\n",
      "sady\n"
     ]
    }
   ],
   "source": [
    "input_string= input()\n",
    "if len(input_string)<2:\n",
    "    print(\"empty\")\n",
    "else:\n",
    "    print(input_string[:2]+input_string[-2:])"
   ]
  },
  {
   "cell_type": "markdown",
   "id": "1534f956",
   "metadata": {},
   "source": [
    "**3-Write a Python program to add 'ing' at the end of a given string (length should be at least 3). If the given string already ends with 'ing', add 'ly' instead. If the string length of the given string is less than 3, leave it unchanged. (Sample String : 'abc'\n",
    "Expected Result : 'abcing')"
   ]
  },
  {
   "cell_type": "code",
   "execution_count": 5,
   "id": "f8fabbea",
   "metadata": {},
   "outputs": [
    {
     "name": "stdout",
     "output_type": "stream",
     "text": [
      "eat\n",
      "eating\n"
     ]
    }
   ],
   "source": [
    "## first input & output\n",
    "name = input()\n",
    "\n",
    "if len(name) == 3:\n",
    "    print(name + \"ing\")\n",
    "elif name[-3:] == \"ing\":  # Corrected the condition for elif\n",
    "    print(name + \"ly\")\n",
    "else:\n",
    "    print(\" \")"
   ]
  },
  {
   "cell_type": "code",
   "execution_count": 4,
   "id": "6458cb5e",
   "metadata": {},
   "outputs": [
    {
     "name": "stdout",
     "output_type": "stream",
     "text": [
      "playing\n",
      "playingly\n"
     ]
    }
   ],
   "source": [
    "### second input & output\n",
    "\n",
    "name = input()\n",
    "\n",
    "if len(name) == 3:\n",
    "    print(name + \"ing\")\n",
    "elif name[-3:] == \"ing\":  \n",
    "    print(name + \"ly\")\n",
    "else:\n",
    "    print(\" \")"
   ]
  },
  {
   "cell_type": "code",
   "execution_count": 3,
   "id": "8b673f70",
   "metadata": {},
   "outputs": [
    {
     "name": "stdout",
     "output_type": "stream",
     "text": [
      "hello\n",
      " \n"
     ]
    }
   ],
   "source": [
    "## third input & output\n",
    "\n",
    "name = input()\n",
    "\n",
    "if len(name) == 3:\n",
    "    print(name + \"ing\")\n",
    "elif name[-3:] == \"ing\":  \n",
    "    print(name + \"ly\")\n",
    "else:\n",
    "    print(\" \")"
   ]
  },
  {
   "cell_type": "code",
   "execution_count": null,
   "id": "50960dd9",
   "metadata": {},
   "outputs": [],
   "source": [
    "nm=input()\n",
    "if len (name)<3:\n",
    "    print(\" \")\n",
    "else:\n",
    "    if nm[-3:]==\"ing\":\n",
    "        print(nm+\"ly\")\n",
    "    else:\n",
    "            print(nm+\"ing\")"
   ]
  },
  {
   "cell_type": "markdown",
   "id": "1c0a6627",
   "metadata": {},
   "source": [
    "**4-Write a Python function that takes a list of words and return the longest word and the length of the longest one\n",
    "(Longest word: Exercises\n",
    "Length of the longest word: 9)"
   ]
  },
  {
   "cell_type": "code",
   "execution_count": 6,
   "id": "397341d9",
   "metadata": {},
   "outputs": [
    {
     "data": {
      "text/plain": [
       "'aly and ahmed'"
      ]
     },
     "execution_count": 6,
     "metadata": {},
     "output_type": "execute_result"
    }
   ],
   "source": [
    "list_of_names=[\"aly\",\"ahmed\",\"aly and ahmed\"]\n",
    "longest_name=max(list_of_names)\n",
    "longest_name"
   ]
  },
  {
   "cell_type": "markdown",
   "id": "53a03a6a",
   "metadata": {},
   "source": [
    "**5-Write a Python program to change a given string to a newly string where the first and last chars have been exchanged using 2 ways (Sample String:abca  Expected Result:ebce)"
   ]
  },
  {
   "cell_type": "code",
   "execution_count": 29,
   "id": "285788b4",
   "metadata": {},
   "outputs": [
    {
     "name": "stdout",
     "output_type": "stream",
     "text": [
      "dhmea\n",
      "abdelrahman\n",
      "nbdelrahmaa\n",
      "yands\n"
     ]
    }
   ],
   "source": [
    "#### first way\n",
    "\n",
    "name_=\"ahmed\"\n",
    "reverse_name=name_[-1]+name_[1:-1]+name_[0]\n",
    "print(reverse_name)\n",
    "\n",
    "######### 2nd way\n",
    "\n",
    "name=input()\n",
    "print(name[-1]+name[1:-1]+name[0])\n",
    "\n",
    "### 3rd way\n",
    "\n",
    "def reverse__name2(namee):\n",
    "    print(namee[-1]+namee[1:-1]+namee[0])\n",
    "    \n",
    "reverse__name2(\"sandy\")\n",
    "\n",
    "\n"
   ]
  },
  {
   "cell_type": "markdown",
   "id": "25f89808",
   "metadata": {},
   "source": [
    "**6-Write a Python program to remove characters that have odd index values in a given string (Sample String:abca Expected Result:ac)"
   ]
  },
  {
   "cell_type": "code",
   "execution_count": 59,
   "id": "05959bd7",
   "metadata": {},
   "outputs": [
    {
     "name": "stdout",
     "output_type": "stream",
     "text": [
      "1,3,5,"
     ]
    },
    {
     "data": {
      "text/plain": [
       "(1, 3)"
      ]
     },
     "execution_count": 59,
     "metadata": {},
     "output_type": "execute_result"
    }
   ],
   "source": [
    "numbers=(1,2,3,4,5,6)\n",
    "for odd_number in numbers:\n",
    "     if odd_number %2!=0:\n",
    "         print(odd_number,end=\",\") \n",
    "        \n",
    " #### #### 2nd way\n",
    "\n",
    "name=(1,2,3,4)\n",
    "name[::2]"
   ]
  },
  {
   "cell_type": "markdown",
   "id": "eb16e898",
   "metadata": {},
   "source": [
    "**7-Write a Python program to count the occurrences of each word in a given sentence (Sample String:amr and ahmed are frindes but amr is the tallest Expected Result:2)"
   ]
  },
  {
   "cell_type": "code",
   "execution_count": 81,
   "id": "01ce6cf5",
   "metadata": {},
   "outputs": [
    {
     "name": "stdout",
     "output_type": "stream",
     "text": [
      "ahmed 2\n",
      "and 2\n",
      "ali 2\n",
      "are 1\n",
      "the 1\n",
      "smartest 1\n",
      "two 1\n",
      "and 2\n",
      "ali 2\n",
      "is 1\n",
      "tallest 1\n",
      "than 1\n",
      "ahmed 2\n"
     ]
    }
   ],
   "source": [
    "full_sentance=(\"ahmed and ali are the smartest two and ali is tallest than ahmed \")\n",
    "sentace_after_split= full_sentance.split()\n",
    "    \n",
    "for word in sentace_after_split:\n",
    "    print(word,full_sentance.count(word))"
   ]
  },
  {
   "cell_type": "markdown",
   "id": "4e8125f1",
   "metadata": {},
   "source": [
    "**8-Write a Python script that takes input from the user and displays that input back in upper and lower cases"
   ]
  },
  {
   "cell_type": "code",
   "execution_count": 93,
   "id": "66c8f778",
   "metadata": {},
   "outputs": [
    {
     "name": "stdout",
     "output_type": "stream",
     "text": [
      "sandy\n",
      "SANDY \n",
      " sandy\n"
     ]
    }
   ],
   "source": [
    "user_input=input()\n",
    "\n",
    "capital_input=user_input.upper()\n",
    "\n",
    "lowercase_input=user_input.lower()\n",
    "\n",
    "print(capital_input,\"\\n\",lowercase_input)"
   ]
  },
  {
   "cell_type": "markdown",
   "id": "fcd68aa1",
   "metadata": {},
   "source": [
    "**9-Write a Python function to reverse a string if its length is a multiple of 4"
   ]
  },
  {
   "cell_type": "code",
   "execution_count": 30,
   "id": "03ef6373",
   "metadata": {},
   "outputs": [
    {
     "name": "stdout",
     "output_type": "stream",
     "text": [
      "dcba\n",
      "ydnas\n",
      "dhmea\n"
     ]
    }
   ],
   "source": [
    "#### first way\n",
    "\n",
    "def reverse_string(input):\n",
    "    \n",
    "    if len(input) == 4:\n",
    "        reverse2_string=input[-1::-1]\n",
    "        print(reverse2_string)\n",
    "        \n",
    "        \n",
    "reverse_string(\"abcd\")\n",
    "\n",
    "####### 2nd way\n",
    "\n",
    "name=\"sandy\"\n",
    "print(name[-1::-1])\n",
    "\n",
    "##### 3rd way\n",
    "\n",
    "name=\"ahmed\"\n",
    "#name[-1::-1]\n",
    "print(name[-1]+name[1:4]+name[0])\n"
   ]
  },
  {
   "cell_type": "markdown",
   "id": "b577c68d",
   "metadata": {},
   "source": [
    "**10- Write a Python program to remove a newline in Python"
   ]
  },
  {
   "cell_type": "code",
   "execution_count": 58,
   "id": "e0c6525a",
   "metadata": {},
   "outputs": [
    {
     "name": "stdout",
     "output_type": "stream",
     "text": [
      " ahmed\n",
      " aliaa \n",
      " ahmed aliaa \n"
     ]
    }
   ],
   "source": [
    "two_names = \" ahmed\\n aliaa \"\n",
    "print(two_names)\n",
    "\n",
    "###########################\n",
    "\n",
    "without_new_line = x.replace(\"\\n\",\"\")\n",
    "\n",
    "print(without_new_line)\n",
    "    "
   ]
  },
  {
   "cell_type": "markdown",
   "id": "80db5ae0",
   "metadata": {},
   "source": [
    "**11-Write a Python program to check whether a string starts with specified characters"
   ]
  },
  {
   "cell_type": "code",
   "execution_count": 72,
   "id": "0cc4e03e",
   "metadata": {},
   "outputs": [
    {
     "name": "stdout",
     "output_type": "stream",
     "text": [
      "ok\n",
      "sandy\n",
      "notok\n"
     ]
    }
   ],
   "source": [
    "name=\"ahmed\"\n",
    "if name[0]==\"a\" or \"A\":\n",
    "    print(\"ok\")\n",
    "else:\n",
    "    print(\"not ok\")\n",
    "    \n",
    "    \n",
    "    ##############\n",
    "\n",
    "input_= input()\n",
    "if input_[0]==\"A\" or input_[0]==\"a\":\n",
    "\n",
    "    print(\"correct! it starts with a \")   \n",
    "else:\n",
    "    print(\"sorry it's not starting with a or A letter\")"
   ]
  },
  {
   "cell_type": "markdown",
   "id": "593a68db",
   "metadata": {},
   "source": [
    "**12- Write a Python program to add prefix text to all of the lines in a string"
   ]
  },
  {
   "cell_type": "code",
   "execution_count": 4,
   "id": "d2e46ada",
   "metadata": {},
   "outputs": [
    {
     "name": "stdout",
     "output_type": "stream",
     "text": [
      "she is the best\n"
     ]
    },
    {
     "data": {
      "text/plain": [
       "'Welcome!she is the best'"
      ]
     },
     "execution_count": 4,
     "metadata": {},
     "output_type": "execute_result"
    }
   ],
   "source": [
    "xx=input()\n",
    "add_prefix= \"Welcome!\" + (xx) \n",
    "add_prefix"
   ]
  },
  {
   "cell_type": "markdown",
   "id": "86fa1543",
   "metadata": {},
   "source": [
    "**13-Write a Python program to print the following numbers up to 2 decimal places"
   ]
  },
  {
   "cell_type": "code",
   "execution_count": 8,
   "id": "cd4a9d89",
   "metadata": {},
   "outputs": [
    {
     "data": {
      "text/plain": [
       "2.99"
      ]
     },
     "execution_count": 8,
     "metadata": {},
     "output_type": "execute_result"
    }
   ],
   "source": [
    "decimal= 2.98837627\n",
    "rounded_decimal= round(decimal,2)\n",
    "rounded_decimal"
   ]
  },
  {
   "cell_type": "markdown",
   "id": "452c0ab0",
   "metadata": {},
   "source": [
    "**14-Write a Python program to print the following numbers up to 2 decimal places with a sign"
   ]
  },
  {
   "cell_type": "code",
   "execution_count": 24,
   "id": "73e82479",
   "metadata": {},
   "outputs": [
    {
     "name": "stdout",
     "output_type": "stream",
     "text": [
      "+2.99\n"
     ]
    }
   ],
   "source": [
    "decimal = 2.98837627\n",
    "formatted_number = f\"{decimal:+.2f}\"\n",
    "print(formatted_number)"
   ]
  },
  {
   "cell_type": "markdown",
   "id": "32b1811a",
   "metadata": {},
   "source": [
    "**15-Write a Python program to display a number with a comma separator"
   ]
  },
  {
   "cell_type": "code",
   "execution_count": 4,
   "id": "53b262e8",
   "metadata": {},
   "outputs": [
    {
     "name": "stdout",
     "output_type": "stream",
     "text": [
      "908878\n",
      "9,0,8,8,7,8\n"
     ]
    }
   ],
   "source": [
    "numbers = input()\n",
    "formatted_numbers = \",\".join(numbers)\n",
    "print(formatted_numbers)"
   ]
  },
  {
   "cell_type": "markdown",
   "id": "0477f487",
   "metadata": {},
   "source": [
    "**16-Write a Python program to reverse a string using 2 ways"
   ]
  },
  {
   "cell_type": "code",
   "execution_count": 8,
   "id": "710be540",
   "metadata": {},
   "outputs": [
    {
     "name": "stdout",
     "output_type": "stream",
     "text": [
      "demha\n",
      "hello ahmed\n"
     ]
    },
    {
     "data": {
      "text/plain": [
       "'demha olleh'"
      ]
     },
     "execution_count": 8,
     "metadata": {},
     "output_type": "execute_result"
    }
   ],
   "source": [
    "##### first way\n",
    "\n",
    "word=\"ahmed\"\n",
    "reverse_= word[-1::-1]\n",
    "print(reverse_)\n",
    "\n",
    "### 2nd way\n",
    "\n",
    "user=input()\n",
    "reversed= user[-1::-1]\n",
    "reversed\n",
    "\n"
   ]
  },
  {
   "cell_type": "markdown",
   "id": "5afc3166",
   "metadata": {},
   "source": [
    " **17-Write a Python program to count repeated characters in a string (hint:use dictionary)"
   ]
  },
  {
   "cell_type": "code",
   "execution_count": 13,
   "id": "54e5d5d1",
   "metadata": {
    "scrolled": true
   },
   "outputs": [
    {
     "name": "stdout",
     "output_type": "stream",
     "text": [
      "h 1\n",
      "e 1\n",
      "l 2\n",
      "l 2\n",
      "o 1\n",
      "2nd way:\n",
      "Counter({'l': 2, 'h': 1, 'e': 1, 'o': 1})\n"
     ]
    }
   ],
   "source": [
    "\n",
    "string1=\"hello\"\n",
    "for i in string1:\n",
    "    print(i,string1.count(i))\n",
    "\n",
    "\n",
    "### 2nd way:\n",
    "print(\"2nd way:\")\n",
    "\n",
    "from collections import Counter\n",
    "\n",
    "string2= \"hello\"\n",
    "count2 = Counter(string2)\n",
    "\n",
    "print(count2)\n",
    "\n",
    "\n",
    "\n",
    "\n"
   ]
  },
  {
   "cell_type": "code",
   "execution_count": 16,
   "id": "61f4b1c9",
   "metadata": {},
   "outputs": [
    {
     "name": "stdout",
     "output_type": "stream",
     "text": [
      "l: 2\n",
      "l: 2\n"
     ]
    }
   ],
   "source": [
    "### 3rd way of the above question:\n",
    "\n",
    "print(\"3rd way:\")\n",
    "string3 = \"hello\"\n",
    "count3 = Counter(string3)\n",
    "\n",
    "for i in string3:\n",
    "    if count3[i] > 1:\n",
    "        print(f\"{i}: {count3[i]}\")"
   ]
  },
  {
   "cell_type": "markdown",
   "id": "ae14e4e5",
   "metadata": {},
   "source": [
    "**18-Write a Python program to find the first non-repeating character in a given string"
   ]
  },
  {
   "cell_type": "code",
   "execution_count": 41,
   "id": "d73778e5",
   "metadata": {},
   "outputs": [
    {
     "name": "stdout",
     "output_type": "stream",
     "text": [
      "i 1\n",
      "i 1\n",
      "d 1\n"
     ]
    }
   ],
   "source": [
    "words_=\" she is the tallest girl and the best\"\n",
    "for word in words_:\n",
    "    if words.count(word)==1: \n",
    "        print(word,words.count(word))\n",
    "        \n",
    "\n",
    "        \n",
    "\n"
   ]
  },
  {
   "cell_type": "markdown",
   "id": "3adf5669",
   "metadata": {},
   "source": [
    "**19-Write a Python program to remove spaces from a given string"
   ]
  },
  {
   "cell_type": "code",
   "execution_count": 22,
   "id": "b4f22602",
   "metadata": {},
   "outputs": [
    {
     "data": {
      "text/plain": [
       "'ahmedali'"
      ]
     },
     "execution_count": 22,
     "metadata": {},
     "output_type": "execute_result"
    }
   ],
   "source": [
    "name=\"ahmed ali\"\n",
    "name.replace(\" \",\"\")"
   ]
  },
  {
   "cell_type": "markdown",
   "id": "734de60c",
   "metadata": {},
   "source": [
    "**20-Write a Python program to count the number of non-empty substrings of a given string"
   ]
  },
  {
   "cell_type": "code",
   "execution_count": 3,
   "id": "b7138eb4",
   "metadata": {},
   "outputs": [
    {
     "name": "stdout",
     "output_type": "stream",
     "text": [
      "Input a string: abc\n",
      "Number of substrings: 6.0\n",
      "2nd way:\n",
      "number of substrings: 15.0\n"
     ]
    }
   ],
   "source": [
    "string_ = input(\"Input a string: \")\n",
    "print(\"Number of substrings:\",(len(string_)) * (len(string_) + 1) / 2) ## calcu;ate all the possible substrings\n",
    "\n",
    "##2nd way\n",
    "print(\"2nd way:\")\n",
    "\n",
    "string_2=(1,2,3,4,5)\n",
    "substring=(len(string_2)*(len(string_2) +1 )) /2\n",
    "print(\"number of substrings:\",substring)\n",
    "\n",
    "\n",
    "\n",
    "\n",
    "\n"
   ]
  },
  {
   "cell_type": "markdown",
   "id": "509998e2",
   "metadata": {},
   "source": [
    "**21-write a Python program to swap first and last element of any list."
   ]
  },
  {
   "cell_type": "code",
   "execution_count": 31,
   "id": "68692d7f",
   "metadata": {},
   "outputs": [
    {
     "name": "stdout",
     "output_type": "stream",
     "text": [
      "[3, 2, 1]\n",
      "sandy\n",
      "yands\n",
      "iH\n"
     ]
    }
   ],
   "source": [
    "#### first way:\n",
    "\n",
    "my_list=[1,2,3]\n",
    "switch_charecter=my_list[-1::-1]\n",
    "print(switch_charecter)\n",
    "\n",
    "##### 2nd way:\n",
    "\n",
    "user_input=input()\n",
    "reversed=user_input[-1]+user_input[1:-1]+user_input[0]\n",
    "print(reversed)\n",
    "\n",
    "#### 3rd way:\n",
    "\n",
    "def reversed_function(reverse_charecters):\n",
    "        user= reverse_charecters[-1::-1]\n",
    "        print(user)\n",
    "        \n",
    "reversed_function(\"Hi\")\n",
    "\n"
   ]
  },
  {
   "cell_type": "markdown",
   "id": "959e0837",
   "metadata": {},
   "source": [
    "**22-Given a list in Python and provided the positions of the elements, write a program to swap the two elements in the list. (Input : List = [23, 65, 19, 90], pos1 = 1, pos2 = 3\n",
    "Output : [19, 65, 23, 90])"
   ]
  },
  {
   "cell_type": "code",
   "execution_count": 4,
   "id": "225d8c6d",
   "metadata": {},
   "outputs": [
    {
     "data": {
      "text/plain": [
       "(19, 65, 23, 90)"
      ]
     },
     "execution_count": 4,
     "metadata": {},
     "output_type": "execute_result"
    }
   ],
   "source": [
    "mylist=[23,65,19,90]\n",
    "switch_list=mylist[2],mylist[1],mylist[0],mylist[-1]\n",
    "switch_list"
   ]
  },
  {
   "cell_type": "markdown",
   "id": "66fc6682",
   "metadata": {},
   "source": [
    "**23- search for the all ways to know the length of the list"
   ]
  },
  {
   "cell_type": "code",
   "execution_count": 64,
   "id": "073f317a",
   "metadata": {},
   "outputs": [
    {
     "data": {
      "text/plain": [
       "4"
      ]
     },
     "execution_count": 64,
     "metadata": {},
     "output_type": "execute_result"
    }
   ],
   "source": [
    "my_list=[1,2,3,4]\n",
    "(my_list)\n",
    "len(my_list)"
   ]
  },
  {
   "cell_type": "code",
   "execution_count": null,
   "id": "63ff8b43",
   "metadata": {},
   "outputs": [],
   "source": [
    "**24-write a Python code to find the Maximum number of list of numbers."
   ]
  },
  {
   "cell_type": "code",
   "execution_count": 75,
   "id": "e60baf95",
   "metadata": {},
   "outputs": [
    {
     "name": "stdout",
     "output_type": "stream",
     "text": [
      "33\n",
      "this is the maximum number:  99\n"
     ]
    }
   ],
   "source": [
    "this_list=[1,22,33,4,5]\n",
    "print(max(this_list))\n",
    "\n",
    "\n",
    "## 2nd way\n",
    "\n",
    "def max_num (numbers):\n",
    "    print(\"this is the maximum number: \",max(numbers))\n",
    "    \n",
    "max_num([4,8,99])"
   ]
  },
  {
   "cell_type": "code",
   "execution_count": null,
   "id": "1a89b9d3",
   "metadata": {},
   "outputs": [],
   "source": [
    "**25-write a Python code to find the Minimum number of list of numbers."
   ]
  },
  {
   "cell_type": "code",
   "execution_count": 77,
   "id": "21f8cbd6",
   "metadata": {},
   "outputs": [
    {
     "name": "stdout",
     "output_type": "stream",
     "text": [
      "1\n",
      "this is the minimum number:  4\n"
     ]
    }
   ],
   "source": [
    "### first way\n",
    "\n",
    "this_list=[1,22,33,4,5]\n",
    "print(min(this_list))\n",
    "\n",
    "\n",
    "## 2nd way\n",
    "\n",
    "def min_num (numbers):\n",
    "    print(\"this is the minimum number: \",min(numbers))\n",
    "    \n",
    "min_num([4,8,99])"
   ]
  },
  {
   "cell_type": "markdown",
   "id": "96822d96",
   "metadata": {},
   "source": [
    "**26-search for if an elem is existing in list"
   ]
  },
  {
   "cell_type": "code",
   "execution_count": 80,
   "id": "51ca5c9a",
   "metadata": {},
   "outputs": [
    {
     "name": "stdout",
     "output_type": "stream",
     "text": [
      "yes it exists\n"
     ]
    }
   ],
   "source": [
    "list_names=[\"sandy\",\"nourhan\",\"mariam\"]\n",
    "if \"sandy\" in list_names:\n",
    "    print(\"yes it exists\")\n",
    "else:\n",
    "    print(\"it doesnt exist\")"
   ]
  },
  {
   "cell_type": "markdown",
   "id": "d9557da7",
   "metadata": {},
   "source": [
    "**27- clear python list using different ways"
   ]
  },
  {
   "cell_type": "code",
   "execution_count": 87,
   "id": "b69858a3",
   "metadata": {},
   "outputs": [
    {
     "data": {
      "text/plain": [
       "[]"
      ]
     },
     "execution_count": 87,
     "metadata": {},
     "output_type": "execute_result"
    }
   ],
   "source": [
    "list3=[\"sandy\",44,99,\"ahmed\"]\n",
    "list3.clear()\n",
    "list3\n",
    "\n"
   ]
  },
  {
   "cell_type": "markdown",
   "id": "52160e88",
   "metadata": {},
   "source": [
    "**28-remove duplicated elements from a list"
   ]
  },
  {
   "cell_type": "code",
   "execution_count": 15,
   "id": "5e362228",
   "metadata": {},
   "outputs": [
    {
     "data": {
      "text/plain": [
       "[1, 2, 3, 5, 6, 7, 44]"
      ]
     },
     "execution_count": 15,
     "metadata": {},
     "output_type": "execute_result"
    }
   ],
   "source": [
    "my_listt=[1,2,3,44,44,44,5,6,7]\n",
    "remove_duplicates=list(set(my_listt))   #change list to set then convert set back to list\n",
    "remove_duplicates\n",
    "    "
   ]
  },
  {
   "cell_type": "markdown",
   "id": "282337f7",
   "metadata": {},
   "source": [
    "**29-Given list values and keys list, convert these values to key value pairs in form of list of dictionaries. (Input : test_list = [“Gfg”, 3, “is”, 8], key_list = [“name”, “id”]\n",
    "Output : [{‘name’: ‘Gfg’, ‘id’: 3}, {‘name’: ‘is’, ‘id’: 8}])"
   ]
  },
  {
   "cell_type": "code",
   "execution_count": 172,
   "id": "7ea8efca",
   "metadata": {},
   "outputs": [
    {
     "name": "stdout",
     "output_type": "stream",
     "text": [
      "[{'name': 'Gfg', 'id': 'name'}, {'name': 3, 'id': 'id'}]\n"
     ]
    }
   ],
   "source": [
    "test_list = [\"Gfg\", 3, \"is\", 8]\n",
    "key_list = [\"name\", \"id\"]\n",
    "\n",
    "result = []\n",
    "for i in zip(test_list, key_list):\n",
    "    dictionary = dict(zip(key_list, i))\n",
    "    result.append(dictionary)\n",
    "\n",
    "print(result)"
   ]
  },
  {
   "cell_type": "code",
   "execution_count": 156,
   "id": "dae09e9c",
   "metadata": {},
   "outputs": [
    {
     "name": "stdout",
     "output_type": "stream",
     "text": [
      "[{'name': 'Gfg', 'id': 'name'}, {'name': 3, 'id': 'id'}]\n"
     ]
    }
   ],
   "source": [
    "test_list = [\"Gfg\", 3, \"is\", 8]\n",
    "key_list = [\"name\", \"id\"]\n",
    "\n",
    "result = []\n",
    "for ii in zip(test_list, key_list):\n",
    "    dictionary = dict(zip(key_list, ii))\n",
    "    result.append(dictionary)\n",
    "\n",
    "print(result)"
   ]
  },
  {
   "cell_type": "code",
   "execution_count": null,
   "id": "fdacada5",
   "metadata": {},
   "outputs": [],
   "source": [
    "[{'name': 'Gfg', 'id': 3}, {'name': 'is', 'id': 8}]"
   ]
  },
  {
   "cell_type": "markdown",
   "id": "c26b6e9f",
   "metadata": {},
   "source": [
    "**30-write a python program to count unique values inside a list using different ways"
   ]
  },
  {
   "cell_type": "code",
   "execution_count": 7,
   "id": "396b7a6b",
   "metadata": {},
   "outputs": [
    {
     "name": "stdout",
     "output_type": "stream",
     "text": [
      "first way:\n",
      "[1 2 3 4 5 6] the count of unique values are : 6\n",
      "2nd way:\n",
      "[1, 2, 3, 4, 5] the count of unique values are : 5\n",
      "3rd way:\n",
      "[1, 2, 3, 4, 5, 6] the count of unique values are : 6\n"
     ]
    }
   ],
   "source": [
    "# first way\n",
    "print(\"first way:\")\n",
    "\n",
    "import pandas as pd\n",
    "\n",
    "my_list1 = [1, 2,2,3,4,5,5,6,6]\n",
    "unique_values1=pd.unique(my_list1)\n",
    "count_unique_values1=len(unique_values1)\n",
    "print(unique_values1,\"the count of unique values are :\",count_unique_values1)\n",
    "\n",
    "\n",
    "## 2nd way\n",
    "print(\"2nd way:\")\n",
    "\n",
    "my_list2 = [1, 2, 2, 3, 4, 4, 4, 5]\n",
    "unique_values2=list(set(my_list2))\n",
    "count_unique_values2=len(unique_values2)\n",
    "print(unique_values2,\"the count of unique values are :\",count_values2)\n",
    "\n",
    "\n",
    "\n",
    "\n",
    "## 3rd way\n",
    "print(\"3rd way:\")\n",
    "\n",
    "my_list3=[1,2,2,3,3,4,4,4,4,5,6,6,6]\n",
    "unique_values=[]\n",
    "\n",
    "for i in my_list3:\n",
    "    if i not in unique_values:\n",
    "        unique_values.append(i)\n",
    "count3= len(unique_values)\n",
    "print(unique_values,\"the count of unique values are :\",count3)"
   ]
  },
  {
   "cell_type": "markdown",
   "id": "fed6677c",
   "metadata": {},
   "source": [
    "**31-write a python program Extract all elements with Frequency greater than K (Input : test_list = [4, 6, 4, 3, 3, 4, 3, 4, 3, 8], K = 3 \n",
    "Output : [4, 3] )"
   ]
  },
  {
   "cell_type": "code",
   "execution_count": 130,
   "id": "e55afa52",
   "metadata": {},
   "outputs": [
    {
     "data": {
      "text/plain": [
       "[4, 3]"
      ]
     },
     "execution_count": 130,
     "metadata": {},
     "output_type": "execute_result"
    }
   ],
   "source": [
    "test_list = [4, 6, 4, 3, 3, 4, 3, 4, 3, 8]\n",
    "K = 3\n",
    "new_list=[]\n",
    "for i in test_list:\n",
    "    if test_list.count(i)>k and i not in new_list:\n",
    "        new_list.append(i)\n",
    "new_list"
   ]
  },
  {
   "cell_type": "markdown",
   "id": "caca5224",
   "metadata": {},
   "source": [
    "**32-write a python program to find the Strongest Neighbour (Input: 1 2 2 3 4 5\n",
    "Output: 2 2 3 4 5)"
   ]
  },
  {
   "cell_type": "code",
   "execution_count": 136,
   "id": "39fbd9b2",
   "metadata": {},
   "outputs": [
    {
     "name": "stdout",
     "output_type": "stream",
     "text": [
      "[2, 3, 4, 5]\n"
     ]
    }
   ],
   "source": [
    "input_list = [1, 2, 2, 3, 4, 5]\n",
    "strongest_neighbors = []\n",
    "for i in range(1, len(input_list)-1):\n",
    "    strongest_neighbors.append(max(input_list[i-1], input_list[i+1]))\n",
    "print(strongest_neighbors)"
   ]
  },
  {
   "cell_type": "markdown",
   "id": "a9fa8baf",
   "metadata": {},
   "source": [
    "**33-write a Python Program to print all Possible Combinations from the three Digits (Input: [1, 2, 3]\n",
    "Output:\n",
    "1 2 3 ##\n",
    "1 3 2 ##\n",
    "2 1 3 ##\n",
    "2 3 1 ##\n",
    "3 1 2 ##\n",
    "3 2 1)"
   ]
  },
  {
   "cell_type": "code",
   "execution_count": 23,
   "id": "8c520a76",
   "metadata": {},
   "outputs": [
    {
     "name": "stdout",
     "output_type": "stream",
     "text": [
      "(1, 2, 3)\n",
      "(1, 3, 2)\n",
      "(2, 1, 3)\n",
      "(2, 3, 1)\n",
      "(3, 1, 2)\n",
      "(3, 2, 1)\n"
     ]
    }
   ],
   "source": [
    "from itertools import permutations\n",
    "  \n",
    "my_input= permutations([1, 2, 3], 3)  # arrange or combine all the possible values ,of length--->3\n",
    "  \n",
    "for i in my_input:\n",
    "    print(i)"
   ]
  },
  {
   "cell_type": "markdown",
   "id": "5288bb89",
   "metadata": {},
   "source": [
    "**34-write a Python program to find all the Combinations in the list with the given condition (Input: test_list = [1,2,3] \n",
    "Output: \n",
    " [1], [1, 2], [1, 2, 3], [1, 3]\n",
    " [2], [2, 3], [3])"
   ]
  },
  {
   "cell_type": "code",
   "execution_count": null,
   "id": "5cc548f3",
   "metadata": {},
   "outputs": [],
   "source": []
  },
  {
   "cell_type": "markdown",
   "id": "39973705",
   "metadata": {},
   "source": [
    "**35-write a Python program to get all unique combinations of two Lists (List_1 = [\"a\",\"b\"]\n",
    "List_2 = [1,2]\n",
    "Unique_combination = [[('a',1),('b',2)],[('a',2),('b',1)]] )"
   ]
  },
  {
   "cell_type": "code",
   "execution_count": null,
   "id": "8c4ba22b",
   "metadata": {},
   "outputs": [],
   "source": []
  },
  {
   "cell_type": "markdown",
   "id": "25199af5",
   "metadata": {},
   "source": [
    "**36-Remove all the occurrences of an element from a list in Python (Input : 1 1 2 3 4 5 1 2 1 \n",
    "\n",
    "**Output : 2 3 4 5 2)"
   ]
  },
  {
   "cell_type": "code",
   "execution_count": 25,
   "id": "6dc4c2ba",
   "metadata": {},
   "outputs": [
    {
     "name": "stdout",
     "output_type": "stream",
     "text": [
      "2\n",
      "3\n",
      "4\n",
      "5\n",
      "2\n"
     ]
    }
   ],
   "source": [
    "listt=[1, 1, 2, 3 ,4 ,5, 1, 2 ,1]\n",
    "for i in listt:\n",
    "    if i!= 1:\n",
    "        print(i)\n",
    "    "
   ]
  },
  {
   "cell_type": "markdown",
   "id": "bf1a3c93",
   "metadata": {},
   "source": [
    "**37-write a python program to Replace index elements with elements in Other List (The original list 1 is : [‘Gfg’, ‘is’, ‘best’] The original list 2 is : [0, 1, 2, 1, 0, 0, 0, 2, 1, 1, 2, 0] The lists after index elements replacements is : [‘Gfg’, ‘is’, ‘best’, ‘is’, ‘Gfg’, ‘Gfg’, ‘Gfg’, ‘best’, ‘is’, ‘is’, ‘best’, ‘Gfg’])"
   ]
  },
  {
   "cell_type": "code",
   "execution_count": 193,
   "id": "fdd66a71",
   "metadata": {},
   "outputs": [
    {
     "name": "stdout",
     "output_type": "stream",
     "text": [
      "updated list----> ['gfg', 'is', 'best', 'is', 'gfg', 'gfg', 'gfg', 'best', 'is', 'is', 'best', 'gfg']\n"
     ]
    }
   ],
   "source": [
    "a = ['gfg', 'is', 'best']\n",
    "b = [0 ,1 ,2 ,1 ,0 ,0 ,0 ,2 ,1 ,1 ,2 ,0]\n",
    "updated_list = [a[i] for i in b]\n",
    "print(\"updated list---->\",updated_list)"
   ]
  },
  {
   "cell_type": "markdown",
   "id": "af0f56e8",
   "metadata": {},
   "source": [
    "**38- write python program to Retain records with N occurrences of K(Input : test_list = [(4, 5, 5, 4), (5, 4, 3)], K = 5, N = 2 \n",
    "Output : [(4, 5, 5, 4)]\n",
    "Input : test_list = [(4, 5, 5, 4), (5, 4, 3)], K = 5, N = 3 \n",
    "Output : [] )"
   ]
  },
  {
   "cell_type": "code",
   "execution_count": 12,
   "id": "67b06671",
   "metadata": {},
   "outputs": [
    {
     "name": "stdout",
     "output_type": "stream",
     "text": [
      "[(4, 5, 5, 4)]\n",
      "2nd output:\n",
      "[]\n"
     ]
    }
   ],
   "source": [
    "###############\n",
    "test_list = [(4, 5, 5, 4), (5, 4, 3)]\n",
    "K = 5\n",
    "N = 2\n",
    "\n",
    "result = [record for record in test_list if record.count(K) == N]\n",
    "print(result)\n",
    "\n",
    "###sec output:\n",
    "print(\"2nd output:\")\n",
    "\n",
    "test_list_2 = [(4, 5, 5, 4), (5, 4, 3)]\n",
    "K_2 = 5\n",
    "N_2 = 3\n",
    "result2 = [i for i in test_list if i.count(K_2) == N_2]\n",
    "print(result2)"
   ]
  },
  {
   "cell_type": "markdown",
   "id": "de76f183",
   "metadata": {},
   "source": [
    "**39-write a Python Program to Sort the list according to the column using lambda\n",
    "array = [[1, 3, 3], [2, 1, 2], [3, 2, 1]]\n",
    "Output :\n",
    "Sorted array specific to column 0, [[1, 3, 3], [2, 1, 2], [3, 2, 1]]\n",
    "Sorted array specific to column 1, [[2, 1, 2], [3, 2, 1], [1, 3, 3]]\n",
    "Sorted array specific to column 2, [[3, 2, 1], [2, 1, 2], [1, 3, 3]]"
   ]
  },
  {
   "cell_type": "code",
   "execution_count": null,
   "id": "dc883308",
   "metadata": {},
   "outputs": [],
   "source": []
  },
  {
   "cell_type": "markdown",
   "id": "0eb6ab6c",
   "metadata": {},
   "source": [
    "**40- write a program to Sort Python Dictionaries by Key or Value\n",
    "Input:\n",
    "{'ravi': 10, 'rajnish': 9, 'sanjeev': 15, 'yash': 2, 'suraj': 32}\n",
    "Output: \n",
    "{'rajnish': 9, 'ravi': 10, 'sanjeev': 15, 'suraj': 32, 'yash': 2}"
   ]
  },
  {
   "cell_type": "code",
   "execution_count": 68,
   "id": "a96db4a0",
   "metadata": {},
   "outputs": [
    {
     "name": "stdout",
     "output_type": "stream",
     "text": [
      "---->sorted in ascending order based on keys:\n",
      "{'rajnish': 9, 'ravi': 10, 'sanjeev': 15, 'suraj': 32, 'yash': 2}\n",
      "--->sorted in ascending order based on values:\n",
      "{'yash': 2, 'rajnish': 9, 'ravi': 10, 'sanjeev': 15, 'suraj': 32}\n"
     ]
    }
   ],
   "source": [
    "# first way\n",
    "print(\"---->sorted in ascending order based on keys:\")\n",
    "\n",
    "my_dict={'ravi': 10, 'rajnish': 9, 'sanjeev': 15, 'yash': 2, 'suraj': 32}\n",
    "neww_dict={}\n",
    "for key,value in sorted (my_dict.items()):\n",
    "    neww_dict[key]=value\n",
    "    \n",
    "print(neww_dict)\n",
    "\n",
    "## 2nd way\n",
    "\n",
    "print(\"--->sorted in ascending order based on values:\")\n",
    "\n",
    "my_dict = {'ravi': 10, 'rajnish': 9, 'sanjeev': 15, 'yash': 2, 'suraj': 32}\n",
    "new_dict = {}\n",
    "\n",
    "# Sorting in ascending order based on values\n",
    "for key, value in sorted(my_dict.items(), key=lambda x: x[1]):\n",
    "    new_dict[key] = value\n",
    "\n",
    "print(new_dict)"
   ]
  },
  {
   "cell_type": "code",
   "execution_count": 61,
   "id": "3c4140e5",
   "metadata": {},
   "outputs": [
    {
     "name": "stdout",
     "output_type": "stream",
     "text": [
      "{'rajnish': 9, 'ravi': 10, 'sanjeev': 15, 'suraj': 32, 'yash': 2}\n"
     ]
    }
   ],
   "source": [
    "my_dict = {'ravi': 10, 'rajnish': 9, 'sanjeev': 15, 'yash': 2, 'suraj': 32}\n",
    "new_dict = {}\n",
    "\n",
    "# Sorting in ascending order based on keys\n",
    "for key, value in sorted(my_dict.items()):\n",
    "    new_dict[key] = value\n",
    "\n",
    "print(new_dict)"
   ]
  },
  {
   "cell_type": "code",
   "execution_count": 62,
   "id": "6ef521f5",
   "metadata": {},
   "outputs": [
    {
     "name": "stdout",
     "output_type": "stream",
     "text": [
      "{'yash': 2, 'rajnish': 9, 'ravi': 10, 'sanjeev': 15, 'suraj': 32}\n"
     ]
    }
   ],
   "source": [
    "my_dict = {'ravi': 10, 'rajnish': 9, 'sanjeev': 15, 'yash': 2, 'suraj': 32}\n",
    "new_dict = {}\n",
    "\n",
    "# Sorting in ascending order based on values\n",
    "for key, value in sorted(my_dict.items(), key=lambda item: item[1]):\n",
    "    new_dict[key] = value\n",
    "\n",
    "print(new_dict)\n"
   ]
  },
  {
   "cell_type": "markdown",
   "id": "ec63c23a",
   "metadata": {},
   "source": [
    "**41-write python program to Remove keys with Values Greater than K ( Including mixed values )\n",
    "nput : test_dict = {‘Gfg’ : 3, ‘is’ : 7, ‘best’ : 10, ‘for’ : 6, ‘geeks’ : ‘CS’},\n",
    "K = 7 \n",
    "Output : {‘Gfg’ : 3, ‘for’ : 6, ‘geeks’ : ‘CS’}"
   ]
  },
  {
   "cell_type": "code",
   "execution_count": 17,
   "id": "31b33239",
   "metadata": {},
   "outputs": [
    {
     "name": "stdout",
     "output_type": "stream",
     "text": [
      "{'Gfg': '3', 'for': '6', 'geeks': 'CS'}\n"
     ]
    }
   ],
   "source": [
    "test_dict = {\"Gfg\": \"3\", \"is\": \"7\", \"best\": \"10\", \"for\": \"6\", \"geeks\": \"CS\"}\n",
    "k = 7\n",
    "new_dict = {}\n",
    "\n",
    "for key, value in test_dict.items():\n",
    "    try:\n",
    "        if int(value) < k: \n",
    "            new_dict[key] = value\n",
    "    except ValueError:\n",
    "        new_dict[key] = value \n",
    "print(new_dict)"
   ]
  },
  {
   "cell_type": "markdown",
   "id": "f143f0fe",
   "metadata": {},
   "source": [
    "**42-Write a Python program to concatenate the following dictionaries to create a new one\n",
    "\n",
    "Sample Dictionary :\n",
    "dic1={1:10, 2:20}\n",
    "dic2={3:30, 4:40}\n",
    "dic3={5:50,6:60}\n",
    "Expected Result : {1: 10, 2: 20, 3: 30, 4: 40, 5: 50, 6: 60}"
   ]
  },
  {
   "cell_type": "code",
   "execution_count": 9,
   "id": "60950276",
   "metadata": {},
   "outputs": [
    {
     "data": {
      "text/plain": [
       "{1: 10, 2: 20, 3: 30, 4: 40, 5: 50, 6: 60}"
      ]
     },
     "execution_count": 9,
     "metadata": {},
     "output_type": "execute_result"
    }
   ],
   "source": [
    "dic1={1:10, 2:20} \n",
    "dic2={3:30, 4:40} \n",
    "dic3={5:50,6:60} \n",
    "result = {}\n",
    "result.update(dic1)\n",
    "result.update(dic2)\n",
    "result.update(dic3)\n",
    "result\n"
   ]
  },
  {
   "cell_type": "markdown",
   "id": "fb04c93c",
   "metadata": {},
   "source": [
    "**43-Write a Python program to iterate over dictionaries using for loops"
   ]
  },
  {
   "cell_type": "code",
   "execution_count": 12,
   "id": "6aebc470",
   "metadata": {},
   "outputs": [
    {
     "name": "stdout",
     "output_type": "stream",
     "text": [
      "score grade 5\n",
      "score grade 4\n",
      "score grade6\n"
     ]
    }
   ],
   "source": [
    "my_dictionary={\"score grade 5\":\"3\",\"score grade 4\":\"80\",\"score grade6\":\"800\"}\n",
    "for dictionary in my_dictionary:\n",
    "    print(dictionary)"
   ]
  },
  {
   "cell_type": "markdown",
   "id": "5f491a9d",
   "metadata": {},
   "source": [
    "**44- Write a Python script to merge two Python dictionaries"
   ]
  },
  {
   "cell_type": "code",
   "execution_count": 45,
   "id": "b8a14028",
   "metadata": {},
   "outputs": [
    {
     "name": "stdout",
     "output_type": "stream",
     "text": [
      "merged dictionary----> {'arabic score': 30, 'social score': 60, 'english score': 90, 'math score': 50}\n"
     ]
    }
   ],
   "source": [
    "dictionary1={\"arabic score\":30,\"social score\":60}\n",
    "dictionary2={\"english score\":90,\"math score\":50}\n",
    "\n",
    "\n",
    "dictionary1.update(dictionary2)\n",
    "print(\"merged dictionary---->\",dictionary1)\n"
   ]
  },
  {
   "cell_type": "markdown",
   "id": "216fc72d",
   "metadata": {},
   "source": [
    "**45-Write a Python program to get the maximum and minimum values of a dictionary values"
   ]
  },
  {
   "cell_type": "code",
   "execution_count": 51,
   "id": "d6883f5f",
   "metadata": {},
   "outputs": [
    {
     "name": "stdout",
     "output_type": "stream",
     "text": [
      "max value:  90 \n",
      "min value:  8\n"
     ]
    }
   ],
   "source": [
    "dict1={\"no.countries\":8,\"no.cities\":90,}\n",
    "\n",
    "maximum_values=max(dict1.values())\n",
    "minimum_values=min(dict1.values())\n",
    "print(\"max value: \",maximum_values,\"\\nmin value: \",minimum_values)\n"
   ]
  },
  {
   "cell_type": "markdown",
   "id": "b6a53011",
   "metadata": {},
   "source": [
    "**46- Write a Python program to drop empty items from a given dictionary.\n",
    "Original Dictionary:\n",
    "{'c1': 'Red', 'c2': 'Green', 'c3': None}\n",
    "New Dictionary after dropping empty items:\n",
    "{'c1': 'Red', 'c2': 'Green'}"
   ]
  },
  {
   "cell_type": "code",
   "execution_count": 103,
   "id": "b5c6fecf",
   "metadata": {},
   "outputs": [
    {
     "name": "stdout",
     "output_type": "stream",
     "text": [
      "{'c1': 'Red', 'c2': 'Green'}\n"
     ]
    }
   ],
   "source": [
    "mydic= {'c1': 'Red', 'c2': 'Green', 'c3': None}\n",
    "updated_dic={}\n",
    "for key , value in mydic.items():\n",
    "    if key and value is not None:\n",
    "        updated_dic[key]=value\n",
    "print(updated_dic)"
   ]
  },
  {
   "cell_type": "markdown",
   "id": "46d718c7",
   "metadata": {},
   "source": [
    "**47-Write a Python program to create a tuple of numbers and print one item"
   ]
  },
  {
   "cell_type": "code",
   "execution_count": 47,
   "id": "13216ff5",
   "metadata": {},
   "outputs": [
    {
     "data": {
      "text/plain": [
       "6"
      ]
     },
     "execution_count": 47,
     "metadata": {},
     "output_type": "execute_result"
    }
   ],
   "source": [
    "mytuple_=(6,8,1,2)\n",
    "mytuple_[0]"
   ]
  },
  {
   "cell_type": "markdown",
   "id": "2be5b56b",
   "metadata": {},
   "source": [
    "**48-Write a Python program to unpack a tuple into several variables"
   ]
  },
  {
   "cell_type": "code",
   "execution_count": 45,
   "id": "595f44be",
   "metadata": {},
   "outputs": [
    {
     "name": "stdout",
     "output_type": "stream",
     "text": [
      "a: hello \n",
      "b: 1 \n",
      "c: 2\n"
     ]
    }
   ],
   "source": [
    "tuple_=(\"hello\",1,2)\n",
    "a,b,c = tuple_\n",
    "print(\"a:\",a,\"\\nb:\",b,\"\\nc:\",c)"
   ]
  },
  {
   "cell_type": "markdown",
   "id": "392388a7",
   "metadata": {},
   "source": [
    "**49-Write a Python program to add an item to a tuple"
   ]
  },
  {
   "cell_type": "code",
   "execution_count": 181,
   "id": "54cc092e",
   "metadata": {},
   "outputs": [
    {
     "name": "stdout",
     "output_type": "stream",
     "text": [
      "(1000, 2000, 'hi', 'hello')\n",
      "2nd way:\n",
      "<class 'tuple'> (1, 2, 3, 4, 'welcome', 88888)\n"
     ]
    }
   ],
   "source": [
    "tuple1=(1000,2000,\"hi\")\n",
    "added_item= \"hello\"\n",
    "updated_tuple= tuple1 +(added_item,)\n",
    "print(updated_tuple)\n",
    "\n",
    "\n",
    "# 2nd way\n",
    "print(\"2nd way:\")\n",
    "\n",
    "tuple1=(1,2,3,4,\"welcome\")\n",
    "converted=set(tuple1)\n",
    "converted.add(88888)\n",
    "return_to_tuple=tuple(converted)\n",
    "print(type(return_to_tuple),return_to_tuple)\n",
    "\n"
   ]
  },
  {
   "cell_type": "markdown",
   "id": "3e8fd124",
   "metadata": {},
   "source": [
    "**50-Write a Python program to convert a tuple to a string"
   ]
  },
  {
   "cell_type": "code",
   "execution_count": 155,
   "id": "92a71ddc",
   "metadata": {},
   "outputs": [
    {
     "name": "stdout",
     "output_type": "stream",
     "text": [
      "<class 'str'> ('nour', 1, 2, 3)\n",
      "2nd way by function:\n",
      "<class 'str'> [1, 5, 8]\n"
     ]
    }
   ],
   "source": [
    "my_tuple=(\"nour\",1,2,3)\n",
    "tuple_to_string= str(my_tuple)\n",
    "print(type(tuple_to_string),tuple_to_string)\n",
    "\n",
    "\n",
    "# 2nd way\n",
    "print(\"2nd way by function:\")\n",
    "\n",
    "def convert(my_tuple2):\n",
    "    changing=str(my_tuple2)\n",
    "    print(type(changing),changing)\n",
    "    \n",
    "convert([1,5,8])\n"
   ]
  },
  {
   "cell_type": "markdown",
   "id": "f4f64ef4",
   "metadata": {},
   "source": [
    "**51-Write a Python program to convert a list to a tuple"
   ]
  },
  {
   "cell_type": "code",
   "execution_count": 55,
   "id": "210d56d3",
   "metadata": {},
   "outputs": [
    {
     "name": "stdout",
     "output_type": "stream",
     "text": [
      "<class 'tuple'> (1, 2, 3, 45, 6, 8)\n"
     ]
    }
   ],
   "source": [
    "list_=[1,2,3,45,6,8]\n",
    "tuple_=tuple(list_)\n",
    "print(type(tuple_),tuple_)\n"
   ]
  },
  {
   "cell_type": "markdown",
   "id": "b1e00ef7",
   "metadata": {},
   "source": [
    "**52-Write a Python program to reverse a tuple"
   ]
  },
  {
   "cell_type": "code",
   "execution_count": 57,
   "id": "f45bfdc7",
   "metadata": {},
   "outputs": [
    {
     "data": {
      "text/plain": [
       "(8, 6, 45, 3, 2, 1)"
      ]
     },
     "execution_count": 57,
     "metadata": {},
     "output_type": "execute_result"
    }
   ],
   "source": [
    "my_tuple=(1, 2, 3, 45, 6, 8)\n",
    "reversed_tuple= my_tuple[-1::-1]\n",
    "reversed_tuple"
   ]
  },
  {
   "cell_type": "markdown",
   "id": "3cd347d1",
   "metadata": {},
   "source": [
    "**53-Write a Python program to replace the last value of tuples in a list.\n",
    "Sample list: [(10, 20, 40), (40, 50, 60), (70, 80, 90)]\n",
    "Expected Output: [(10, 20, 100), (40, 50, 100), (70, 80, 100)]"
   ]
  },
  {
   "cell_type": "code",
   "execution_count": 140,
   "id": "dfa7892b",
   "metadata": {},
   "outputs": [
    {
     "name": "stdout",
     "output_type": "stream",
     "text": [
      "[(10, 20, 40, 1000), (40, 50, 60, 1000), (70, 80, 90, 1000)]\n"
     ]
    }
   ],
   "source": [
    "tuple_listtt = [(10, 20, 40), (40, 50, 60), (70, 80, 90)]\n",
    "new_tuple_list=[]\n",
    "for i in tuple_listtt:\n",
    "    added_value=i+(1000,)  #---->added , to concatenate it as a tuple\n",
    "    new_tuple_list.append(added_value)\n",
    "print(new_tuple_list)"
   ]
  },
  {
   "cell_type": "markdown",
   "id": "76bb7b39",
   "metadata": {},
   "source": [
    "**54-Write a Python program to convert a given string list to a tuple\n",
    "Original string: python 3.0\n",
    "<class 'str'>\n",
    "Convert the said string to a tuple:\n",
    "('p', 'y', 't', 'h', 'o', 'n', '3', '.', '0')"
   ]
  },
  {
   "cell_type": "code",
   "execution_count": 53,
   "id": "51951937",
   "metadata": {},
   "outputs": [
    {
     "name": "stdout",
     "output_type": "stream",
     "text": [
      "p,y,t,h,o,n, ,3,.,0,"
     ]
    }
   ],
   "source": [
    "myy_string= \"python 3.0\"\n",
    "my_tuple= tuple(myy_string)\n",
    "for letter in my_tuple:\n",
    "    print(letter,end=\",\")"
   ]
  },
  {
   "cell_type": "markdown",
   "id": "5a1d5d97",
   "metadata": {},
   "source": [
    "**55-Write a Python program to calculate the average value of the numbers in a given tuple of tuples"
   ]
  },
  {
   "cell_type": "code",
   "execution_count": 34,
   "id": "834e7992",
   "metadata": {},
   "outputs": [
    {
     "name": "stdout",
     "output_type": "stream",
     "text": [
      "4\n",
      "2nd way:\n",
      "4\n",
      "3rd way:\n",
      "363\n"
     ]
    }
   ],
   "source": [
    "import statistics\n",
    "\n",
    "\n",
    "numbers1=(1,2,3,4,5,6,7,8)\n",
    "print(int(sum(numbers)/len(numbers)))\n",
    "\n",
    "## 2nd way\n",
    "print(\"2nd way:\")\n",
    "\n",
    "print(int(statistics.mean(numbers1)))\n",
    "\n",
    "# 3rd way\n",
    "print(\"3rd way:\")\n",
    "def average(number):\n",
    "    mean= int(sum(number)/len(number))\n",
    "    print (mean)\n",
    "    \n",
    "numbers2=(5,699,700,50)\n",
    "average(numbers2)"
   ]
  },
  {
   "cell_type": "markdown",
   "id": "51edab9c",
   "metadata": {},
   "source": [
    "**56-Write a Python program to add member(s) to a set."
   ]
  },
  {
   "cell_type": "code",
   "execution_count": 139,
   "id": "2b65df79",
   "metadata": {},
   "outputs": [
    {
     "name": "stdout",
     "output_type": "stream",
     "text": [
      "{'ahmed', 'sandy', 600, 11, 'norhan', 'ali'}\n"
     ]
    },
    {
     "data": {
      "text/plain": [
       "{1, 2, 3, 5, 'welcome'}"
      ]
     },
     "execution_count": 139,
     "metadata": {},
     "output_type": "execute_result"
    }
   ],
   "source": [
    "myy_set={\"ahmed\",\"ali\",\"norhan\"}\n",
    "myy_set.add(\"sandy\")\n",
    "\n",
    "# if i want to add multiple members\n",
    "\n",
    "added_members=myy_set.update({11,600})\n",
    "print(myy_set)\n",
    "\n",
    "# add member with creating function\n",
    "\n",
    "def additem(set1):\n",
    "    added=set1.add(\"welcome\")\n",
    "    \n",
    "original_set={1,2,3,5}\n",
    "additem(original_set)\n",
    "original_set\n"
   ]
  },
  {
   "cell_type": "markdown",
   "id": "965590cc",
   "metadata": {},
   "source": [
    "**57-Write a Python program to remove an item from a set if it is present in the set."
   ]
  },
  {
   "cell_type": "code",
   "execution_count": 155,
   "id": "866bab28",
   "metadata": {},
   "outputs": [
    {
     "data": {
      "text/plain": [
       "{1, 2, 'nourhan', 'sandy'}"
      ]
     },
     "execution_count": 155,
     "metadata": {},
     "output_type": "execute_result"
    }
   ],
   "source": [
    "my_sett={1,2,\"sandy\",\"nourhan\",\"aliaa\"}\n",
    "if \"aliaa\" in my_sett:\n",
    "    my_sett.remove(\"aliaa\")\n",
    "else:\n",
    "    print(\"aliaa not exists\")\n",
    "my_sett\n",
    "    \n"
   ]
  },
  {
   "cell_type": "markdown",
   "id": "2b7cfed1",
   "metadata": {},
   "source": [
    "**58-Write a Python program to create an intersection,union,difference and symmetric difference of sets"
   ]
  },
  {
   "cell_type": "code",
   "execution_count": 20,
   "id": "7f94b7fe",
   "metadata": {},
   "outputs": [
    {
     "name": "stdout",
     "output_type": "stream",
     "text": [
      "{'mahmoud', 4}\n",
      "{'mahmoud', 4}\n"
     ]
    }
   ],
   "source": [
    "set1={1,2,3,4,5,\"mahmoud\",\"mariam\"}\n",
    "set2={\"mahmoud\",4,500,700}\n",
    "print(set1.intersection(set2))\n",
    "\n",
    "\n",
    "# 2nd way creating function\n",
    "\n",
    "def intersection (set1,set2):\n",
    "    common=set1.intersection(set2)\n",
    "    print(common)\n",
    "    \n",
    "intersection(set1,set2)"
   ]
  },
  {
   "cell_type": "markdown",
   "id": "b94931e2",
   "metadata": {},
   "source": [
    "**59-Write a Python program to find the maximum and minimum values in a set"
   ]
  },
  {
   "cell_type": "code",
   "execution_count": 104,
   "id": "203f9600",
   "metadata": {},
   "outputs": [
    {
     "name": "stdout",
     "output_type": "stream",
     "text": [
      "maximum value is 998\n",
      "minimum value is 0\n",
      "2nd way: \n",
      "max value is 1000 \n",
      "min value is 5\n"
     ]
    }
   ],
   "source": [
    "#1st way\n",
    "myset={9,998,0,11}\n",
    "print(\"maximum value is\",max(myset))\n",
    "print(\"minimum value is\",min(myset))\n",
    "\n",
    "#2nd way\n",
    "\n",
    "print(\"2nd way: \")\n",
    "\n",
    "def max_and_min_value(my_set):\n",
    "    max_value=max(my_set)\n",
    "    min_value=min(my_set)\n",
    "    print(\"max value is\",max_value,\"\\nmin value is\",min_value)\n",
    "    \n",
    "max_and_min_value({77,99,1000,5})\n",
    "    "
   ]
  },
  {
   "cell_type": "markdown",
   "id": "255fd554",
   "metadata": {},
   "source": [
    "**60- Write a Python program that finds all pairs of elements in a list whose sum is equal to a given value."
   ]
  },
  {
   "cell_type": "code",
   "execution_count": 27,
   "id": "dedde2e3",
   "metadata": {},
   "outputs": [
    {
     "name": "stdout",
     "output_type": "stream",
     "text": [
      "sum of 6 are [(1, 5), (2, 4)]\n",
      "2nd way:\n",
      "sum of 5 are [(1, 4), (2, 3)]\n"
     ]
    }
   ],
   "source": [
    "#1st way\n",
    "\n",
    "def sum_of_pairs (mylist, targetsum):\n",
    "    result_pairs=[]\n",
    "    for first_number in range(len(mylist)):\n",
    "        for second_number in range(first_number+1,(len(mylist))):    #+1 to avoid duplicates\n",
    "            if mylist[first_number] + mylist[second_number]== targetsum:\n",
    "                result_pairs.append((mylist[first_number],mylist[second_number]))\n",
    "    return result_pairs\n",
    "\n",
    "mylist=[1,2,3,4,5,6]\n",
    "targetsum=6\n",
    "print(\"sum of 6 are\",sum_of_pairs(mylist,targetsum))\n",
    "\n",
    "\n",
    "\n",
    "##2nd way\n",
    "\n",
    "print(\"2nd way:\")\n",
    "\n",
    "listt=[1,2,3,4,5,6]\n",
    "target_sum=5\n",
    "result=[]\n",
    "for num1 in range(len(listt)):\n",
    "    for num2 in range(num1+1,len(listt)):\n",
    "        if listt[num1] + listt[num2] == target_sum :\n",
    "            result.append((listt[num1],listt[num2]))\n",
    "print(\"sum of 5 are\",result)"
   ]
  }
 ],
 "metadata": {
  "kernelspec": {
   "display_name": "Python 3 (ipykernel)",
   "language": "python",
   "name": "python3"
  },
  "language_info": {
   "codemirror_mode": {
    "name": "ipython",
    "version": 3
   },
   "file_extension": ".py",
   "mimetype": "text/x-python",
   "name": "python",
   "nbconvert_exporter": "python",
   "pygments_lexer": "ipython3",
   "version": "3.9.13"
  }
 },
 "nbformat": 4,
 "nbformat_minor": 5
}
