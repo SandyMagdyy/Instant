{
 "cells": [
  {
   "cell_type": "markdown",
   "id": "2779a76a",
   "metadata": {},
   "source": [
    "## i want to implement undirected graph data structure using a dictionary approach  the goal is to crate a graph data structure that has nodes and each edge connected to the nodes."
   ]
  },
  {
   "cell_type": "code",
   "execution_count": 1,
   "id": "500a1185",
   "metadata": {},
   "outputs": [
    {
     "name": "stdout",
     "output_type": "stream",
     "text": [
      "A:['B', 'D']\n",
      "B:['A', 'C']\n",
      "C:['B', 'D']\n",
      "D:['C', 'A']\n"
     ]
    }
   ],
   "source": [
    "class Graph:\n",
    "    def __init__(self):\n",
    "        self.graph={}   # empty dict\n",
    "        \n",
    "    def nodes(self,node):\n",
    "        self.graph[node]=[]   #empty list to put all the nodes inside it\n",
    "        \n",
    "    def edges(self,node1,node2):   # add node1 as a neighbor to node2\n",
    "        if node1 in self.graph and node2 in self.graph:\n",
    "            self.graph[node1].append(node2)\n",
    "            self.graph[node2].append(node1)\n",
    "            \n",
    "    def display(self):\n",
    "        for node, adjacency in self.graph.items():\n",
    "            print(f\"{node}:{adjacency}\") # display the nodes and edges in \n",
    "            \n",
    "            \n",
    "my_graph=Graph()  #object for the class\n",
    "\n",
    "#nodes of the graph\n",
    "my_graph.nodes(\"A\")\n",
    "my_graph.nodes(\"B\")\n",
    "my_graph.nodes(\"C\")\n",
    "my_graph.nodes(\"D\")\n",
    "\n",
    "# edges between nodes the relationship\n",
    "my_graph.edges(\"A\",\"B\")\n",
    "my_graph.edges(\"B\",\"C\")\n",
    "my_graph.edges(\"C\",\"D\")\n",
    "my_graph.edges(\"D\",\"A\")\n",
    "\n",
    "my_graph.display()\n",
    "\n",
    "        "
   ]
  },
  {
   "cell_type": "markdown",
   "id": "34bb75b4",
   "metadata": {},
   "source": [
    "## practicing data structure queue, priority queue,stack"
   ]
  },
  {
   "cell_type": "code",
   "execution_count": 2,
   "id": "7c0f8dfb",
   "metadata": {},
   "outputs": [],
   "source": [
    "import queue  #module or library"
   ]
  },
  {
   "cell_type": "code",
   "execution_count": 3,
   "id": "f96a2353",
   "metadata": {},
   "outputs": [],
   "source": [
    "myq= queue.Queue()              #This line creates an instance of the Queue class from the queue module \n",
    "                                 #queue data structure (first in first out)"
   ]
  },
  {
   "cell_type": "code",
   "execution_count": 4,
   "id": "2172bdd8",
   "metadata": {},
   "outputs": [],
   "source": [
    "myq.put(12)\n",
    "myq.put(10)\n",
    "myq.put(14)\n",
    "myq.put(6)\n",
    "myq.put(8)\n",
    "myq.put(20)\n",
    "myq.put(3)"
   ]
  },
  {
   "cell_type": "code",
   "execution_count": 5,
   "id": "0e9145b3",
   "metadata": {},
   "outputs": [
    {
     "data": {
      "text/plain": [
       "12"
      ]
     },
     "execution_count": 5,
     "metadata": {},
     "output_type": "execute_result"
    }
   ],
   "source": [
    "myq.get()"
   ]
  },
  {
   "cell_type": "code",
   "execution_count": 6,
   "id": "f4e7588b",
   "metadata": {},
   "outputs": [
    {
     "data": {
      "text/plain": [
       "10"
      ]
     },
     "execution_count": 6,
     "metadata": {},
     "output_type": "execute_result"
    }
   ],
   "source": [
    "myq.get()"
   ]
  },
  {
   "cell_type": "code",
   "execution_count": 7,
   "id": "cd8569bd",
   "metadata": {},
   "outputs": [
    {
     "name": "stdout",
     "output_type": "stream",
     "text": [
      "14\n",
      "6\n",
      "8\n",
      "20\n",
      "3\n"
     ]
    }
   ],
   "source": [
    "while myq.empty() ==False:   # get all the remaining values\n",
    "    print(myq.get())"
   ]
  },
  {
   "cell_type": "code",
   "execution_count": 8,
   "id": "9de55ca7",
   "metadata": {},
   "outputs": [
    {
     "data": {
      "text/plain": [
       "0"
      ]
     },
     "execution_count": 8,
     "metadata": {},
     "output_type": "execute_result"
    }
   ],
   "source": [
    "myq.qsize() #check"
   ]
  },
  {
   "cell_type": "code",
   "execution_count": 10,
   "id": "9987a8c8",
   "metadata": {},
   "outputs": [],
   "source": [
    "def addtoq(element):\n",
    "    myq.put(element)\n",
    "    \n",
    "def removequeue():\n",
    "    return myq.get()\n",
    "    \n",
    "def clearqueue():\n",
    "    while myq.empty()==False:\n",
    "        print(myq.get())\n",
    "        \n",
    "addtoq(3)\n",
    "addtoq(4)\n",
    "addtoq(7)\n",
    "addtoq(10)\n",
    "addtoq(12)"
   ]
  },
  {
   "cell_type": "code",
   "execution_count": 11,
   "id": "c082bacd",
   "metadata": {},
   "outputs": [
    {
     "data": {
      "text/plain": [
       "3"
      ]
     },
     "execution_count": 11,
     "metadata": {},
     "output_type": "execute_result"
    }
   ],
   "source": [
    "removequeue()  #execute the first value"
   ]
  },
  {
   "cell_type": "code",
   "execution_count": 12,
   "id": "37eaa7d7",
   "metadata": {},
   "outputs": [
    {
     "name": "stdout",
     "output_type": "stream",
     "text": [
      "4\n",
      "7\n",
      "10\n",
      "12\n"
     ]
    }
   ],
   "source": [
    "clearqueue()   #remaining values\n"
   ]
  },
  {
   "cell_type": "code",
   "execution_count": 13,
   "id": "06547aba",
   "metadata": {},
   "outputs": [],
   "source": [
    "pq= queue.PriorityQueue()  #priority queue is the priority to smallest number by default"
   ]
  },
  {
   "cell_type": "code",
   "execution_count": 14,
   "id": "51e62681",
   "metadata": {},
   "outputs": [],
   "source": [
    "pq.put(12)\n",
    "pq.put(1)\n",
    "pq.put(4)\n",
    "pq.put(7)\n",
    "pq.put(11)\n",
    "pq.put(20)"
   ]
  },
  {
   "cell_type": "code",
   "execution_count": 15,
   "id": "14133cb9",
   "metadata": {},
   "outputs": [
    {
     "data": {
      "text/plain": [
       "1"
      ]
     },
     "execution_count": 15,
     "metadata": {},
     "output_type": "execute_result"
    }
   ],
   "source": [
    "pq.get()"
   ]
  },
  {
   "cell_type": "code",
   "execution_count": 16,
   "id": "4c2e1ed7",
   "metadata": {},
   "outputs": [
    {
     "name": "stdout",
     "output_type": "stream",
     "text": [
      "4\n",
      "7\n",
      "11\n",
      "12\n",
      "20\n"
     ]
    }
   ],
   "source": [
    "while pq.empty()==False:\n",
    "    print(pq.get())"
   ]
  },
  {
   "cell_type": "code",
   "execution_count": 17,
   "id": "9ff9419a",
   "metadata": {},
   "outputs": [
    {
     "data": {
      "text/plain": [
       "10"
      ]
     },
     "execution_count": 17,
     "metadata": {},
     "output_type": "execute_result"
    }
   ],
   "source": [
    "pq.put(-1)                 # i insert negative to the values to reverse the order to execute in desc order\n",
    "pq.put(-2)\n",
    "pq.put(-10)\n",
    "-pq.get()"
   ]
  },
  {
   "cell_type": "code",
   "execution_count": 18,
   "id": "4edac500",
   "metadata": {},
   "outputs": [
    {
     "name": "stdout",
     "output_type": "stream",
     "text": [
      "2\n",
      "1\n"
     ]
    }
   ],
   "source": [
    "while pq.empty()==False:\n",
    "    print(-pq.get())"
   ]
  },
  {
   "cell_type": "code",
   "execution_count": 19,
   "id": "9b2162eb",
   "metadata": {},
   "outputs": [],
   "source": [
    "stack= queue.LifoQueue()   # or i can type stack()"
   ]
  },
  {
   "cell_type": "code",
   "execution_count": 20,
   "id": "c83ba788",
   "metadata": {},
   "outputs": [],
   "source": [
    "from queue import LifoQueue as stack    # stack data structure last in first out\n",
    "\n",
    "mys = stack()"
   ]
  },
  {
   "cell_type": "code",
   "execution_count": 21,
   "id": "692ad670",
   "metadata": {},
   "outputs": [
    {
     "name": "stdout",
     "output_type": "stream",
     "text": [
      "<class 'queue.LifoQueue'>\n"
     ]
    }
   ],
   "source": [
    "print(type(mys))"
   ]
  },
  {
   "cell_type": "code",
   "execution_count": 22,
   "id": "24dc31b5",
   "metadata": {},
   "outputs": [],
   "source": [
    "mys.put(120)\n",
    "mys.put(1)\n",
    "mys.put(10)\n",
    "mys.put(12)\n",
    "mys.put(11)\n",
    "mys.put(1120)\n",
    "mys.put(40)"
   ]
  },
  {
   "cell_type": "code",
   "execution_count": 23,
   "id": "b5fe7428",
   "metadata": {},
   "outputs": [
    {
     "data": {
      "text/plain": [
       "40"
      ]
     },
     "execution_count": 23,
     "metadata": {},
     "output_type": "execute_result"
    }
   ],
   "source": [
    "mys.get()"
   ]
  },
  {
   "cell_type": "code",
   "execution_count": 24,
   "id": "3300d28c",
   "metadata": {},
   "outputs": [
    {
     "name": "stdout",
     "output_type": "stream",
     "text": [
      "1120\n",
      "11\n",
      "12\n",
      "10\n",
      "1\n",
      "120\n"
     ]
    }
   ],
   "source": [
    "while mys.empty()== False:\n",
    "    print(mys.get())"
   ]
  },
  {
   "cell_type": "code",
   "execution_count": null,
   "id": "27501945",
   "metadata": {},
   "outputs": [],
   "source": []
  }
 ],
 "metadata": {
  "kernelspec": {
   "display_name": "Python 3 (ipykernel)",
   "language": "python",
   "name": "python3"
  },
  "language_info": {
   "codemirror_mode": {
    "name": "ipython",
    "version": 3
   },
   "file_extension": ".py",
   "mimetype": "text/x-python",
   "name": "python",
   "nbconvert_exporter": "python",
   "pygments_lexer": "ipython3",
   "version": "3.9.13"
  }
 },
 "nbformat": 4,
 "nbformat_minor": 5
}
